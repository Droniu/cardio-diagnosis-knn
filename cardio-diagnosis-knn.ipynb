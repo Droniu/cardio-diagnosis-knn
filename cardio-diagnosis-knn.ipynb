{
 "cells": [
  {
   "cell_type": "markdown",
   "metadata": {},
   "source": [
    "## Data importing & feature selection"
   ]
  },
  {
   "cell_type": "code",
   "execution_count": 11,
   "metadata": {},
   "outputs": [
    {
     "name": "stdout",
     "output_type": "stream",
     "text": [
      "Overwriting select-filter.py\n"
     ]
    }
   ],
   "source": [
    "# %%writefile \"select-filter.py\"\n",
    "import numpy as np\n",
    "from sklearn.feature_selection import SelectKBest, f_classif\n",
    "\n",
    "# loading data to tables\n",
    "file = open(\"heart.dat\")\n",
    "all = np.loadtxt(file, delimiter=\" \")\n",
    "X = np.zeros((len(all), len(all[0]) - 1), dtype=np.uint8)\n",
    "Y = np.zeros((len(all)), dtype=np.uint8)\n",
    "for i in range(len(all)):\n",
    "    for j in range(len(all[0]) - 1):\n",
    "        X[i][j] = all[i][j]\n",
    "    Y[i] = all[i][len(all[0]) - 1]\n",
    "\n",
    "# feature selection\n",
    "featureSelection = SelectKBest(f_classif)\n",
    "featureSelection.fit(X, Y)\n",
    "ranks = featureSelection.get_support(True)\n",
    "for i in ranks:\n",
    "    print(\"Feature no.\", i + 1, \"Value \", featureSelection.scores_[i])\n"
   ]
  },
  {
   "cell_type": "markdown",
   "metadata": {},
   "source": [
    "## Diving data into test set and training set\n",
    "\n",
    "25% of data will be used for testing and 75% for training."
   ]
  },
  {
   "cell_type": "code",
   "execution_count": null,
   "metadata": {},
   "outputs": [],
   "source": [
    "from sklearn.model_selection import train_test_split\n",
    "\n",
    "X_train, X_test, y_train, y_test = train_test_split(X, Y, test_size=0.25) "
   ]
  },
  {
   "cell_type": "markdown",
   "metadata": {},
   "source": [
    "## KNN Alghoritm\n",
    "\n",
    "Chosen k-values are 1, 3, 5 (odd values, because amount of classes is even).\n",
    "Chosen metrics are:\n",
    "- Euclidean distance\n",
    "- Hamming distance"
   ]
  },
  {
   "cell_type": "markdown",
   "metadata": {},
   "source": [
    "## 2-fold cross validation\n",
    "\n",
    "For validation, 2-fold cross validation repated 5 times is used.\n",
    "Further reading: <https://scikit-learn.org/stable/modules/generated/sklearn.model_selection.RepeatedKFold.html>\n",
    "\n"
   ]
  },
  {
   "cell_type": "markdown",
   "metadata": {},
   "source": [
    "## Statistical analysis\n",
    "\n",
    "Paired samples t-tests will be used for statistical analysis of the results."
   ]
  }
 ],
 "metadata": {
  "interpreter": {
   "hash": "c7cc3bc10f040823b08e156202303ecc62b74ddcd15b43be2d0df9acb2e0145d"
  },
  "kernelspec": {
   "display_name": "Python 3.9.6 64-bit ('.venv': poetry)",
   "name": "python3"
  },
  "language_info": {
   "codemirror_mode": {
    "name": "ipython",
    "version": 3
   },
   "file_extension": ".py",
   "mimetype": "text/x-python",
   "name": "python",
   "nbconvert_exporter": "python",
   "pygments_lexer": "ipython3",
   "version": "3.9.7"
  },
  "orig_nbformat": 4
 },
 "nbformat": 4,
 "nbformat_minor": 2
}
