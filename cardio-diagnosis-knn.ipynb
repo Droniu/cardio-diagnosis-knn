{
 "cells": [
  {
   "cell_type": "markdown",
   "metadata": {},
   "source": [
    "## Data importing & feature selection"
   ]
  },
  {
   "cell_type": "code",
   "execution_count": 1,
   "metadata": {},
   "outputs": [
    {
     "name": "stdout",
     "output_type": "stream",
     "text": [
      "Feature no. 1 Value  12.651622\n",
      "Feature no. 2 Value  26.06531\n",
      "Feature no. 3 Value  56.55445\n",
      "Feature no. 7 Value  9.190846\n",
      "Feature no. 8 Value  56.90898\n",
      "Feature no. 9 Value  57.169632\n",
      "Feature no. 10 Value  54.564568\n",
      "Feature no. 11 Value  34.477673\n",
      "Feature no. 12 Value  70.09835\n",
      "Feature no. 13 Value  101.98506\n"
     ]
    }
   ],
   "source": [
    "# %%writefile \"select-filter.py\"\n",
    "import numpy as np\n",
    "from sklearn.feature_selection import SelectKBest, f_classif\n",
    "\n",
    "# loading data to tables\n",
    "file = open(\"heart.dat\")\n",
    "all = np.loadtxt(file, delimiter=\" \")\n",
    "X = np.zeros((len(all), len(all[0]) - 1), dtype=np.uint8)\n",
    "Y = np.zeros((len(all)), dtype=np.uint8)\n",
    "for i in range(len(all)):\n",
    "    for j in range(len(all[0]) - 1):\n",
    "        X[i][j] = all[i][j]\n",
    "    Y[i] = all[i][len(all[0]) - 1]\n",
    "\n",
    "# feature selection\n",
    "featureSelection = SelectKBest(f_classif)\n",
    "featureSelection.fit(X, Y)\n",
    "ranks = featureSelection.get_support(True)\n",
    "for i in ranks:\n",
    "    print(\"Feature no.\", i + 1, \"Value \", featureSelection.scores_[i])\n"
   ]
  },
  {
   "cell_type": "markdown",
   "metadata": {},
   "source": [
    "## Diving data into test set and training set\n",
    "\n",
    "25% of data will be used for testing and 75% for training."
   ]
  },
  {
   "cell_type": "code",
   "execution_count": null,
   "metadata": {},
   "outputs": [],
   "source": [
    "from sklearn.model_selection import train_test_split\n",
    "\n",
    "X_train, X_test, y_train, y_test = train_test_split(X, Y, test_size=0.25) "
   ]
  },
  {
   "cell_type": "markdown",
   "metadata": {},
   "source": [
    "## KNN Alghoritm\n",
    "\n",
    "Chosen k-values are 1, 3, 5 (odd values, because amount of classes is even).\n",
    "Chosen metrics are:\n",
    "- Euclidean distance\n",
    "- Hamming distance"
   ]
  },
  {
   "cell_type": "markdown",
   "metadata": {},
   "source": [
    "## 2-fold cross validation\n",
    "\n",
    "For validation, 2-fold cross validation repated 5 times is used.\n",
    "Further reading: <https://scikit-learn.org/stable/modules/generated/sklearn.model_selection.RepeatedKFold.html>\n",
    "\n"
   ]
  },
  {
   "cell_type": "markdown",
   "metadata": {},
   "source": [
    "## Statistical analysis\n",
    "\n",
    "Paired samples t-tests will be used for statistical analysis of the results."
   ]
  }
 ],
 "metadata": {
  "interpreter": {
   "hash": "63fd5069d213b44bf678585dea6b12cceca9941eaf7f819626cde1f2670de90d"
  },
  "kernelspec": {
   "display_name": "Python 3.9.6 64-bit",
   "name": "python3"
  },
  "language_info": {
   "codemirror_mode": {
    "name": "ipython",
    "version": 3
   },
   "file_extension": ".py",
   "mimetype": "text/x-python",
   "name": "python",
   "nbconvert_exporter": "python",
   "pygments_lexer": "ipython3",
   "version": "3.9.6"
  },
  "orig_nbformat": 4
 },
 "nbformat": 4,
 "nbformat_minor": 2
}
